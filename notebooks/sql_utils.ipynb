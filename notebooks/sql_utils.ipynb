{
 "cells": [
  {
   "cell_type": "code",
   "execution_count": 4,
   "metadata": {},
   "outputs": [],
   "source": [
    "import boto3\n",
    "import pandas as pd\n",
    "import numpy as np\n",
    "import io\n",
    "import sys\n",
    "import os\n",
    "import seaborn as sns\n",
    "import sqlparse\n",
    "\n",
    "# local libraries\n",
    "sys.path.append(os.path.abspath(os.path.join(sys.path[0], '..', 'src', 'lib')))\n",
    "#sys.path.append('/mnt/src/lib') # Domino\n",
    "import market_maker_training\n",
    "\n",
    "# options\n",
    "pd.options.display.max_rows = 100\n",
    "pd.options.display.max_columns = 1000\n",
    "pd.options.mode.chained_assignment = None\n",
    "%matplotlib inline"
   ]
  },
  {
   "cell_type": "code",
   "execution_count": 10,
   "metadata": {},
   "outputs": [
    {
     "name": "stdout",
     "output_type": "stream",
     "text": [
      "The autoreload extension is already loaded. To reload it, use:\n",
      "  %reload_ext autoreload\n"
     ]
    }
   ],
   "source": [
    "%load_ext autoreload\n",
    "%autoreload 2"
   ]
  },
  {
   "cell_type": "code",
   "execution_count": 11,
   "metadata": {},
   "outputs": [],
   "source": [
    "coin_pair_dict = {'target':'btcusdt'}\n",
    "feature_minutes_list = [5]\n",
    "trade_window_list=[6]"
   ]
  },
  {
   "cell_type": "markdown",
   "metadata": {},
   "source": [
    "### Print SQL"
   ]
  },
  {
   "cell_type": "code",
   "execution_count": 12,
   "metadata": {
    "scrolled": true
   },
   "outputs": [
    {
     "name": "stdout",
     "output_type": "stream",
     "text": [
      "WITH target_btcusdt_end_orderbook AS\n",
      "  (SELECT trade_minute - 1 AS lag_trade_minute,\n",
      "          *\n",
      "   FROM binance.orderbook\n",
      "   WHERE coin_pair = 'btcusdt'\n",
      "   ORDER BY trade_minute DESC),\n",
      "     target_btcusdt_beg_orderbook AS\n",
      "  (SELECT *\n",
      "   FROM binance.orderbook\n",
      "   WHERE coin_pair = 'btcusdt'\n",
      "   ORDER BY trade_minute DESC),\n",
      "     target_btcusdt_candlesticks AS\n",
      "  (SELECT *\n",
      "   FROM binance.candledicks c\n",
      "   WHERE coin_pair = 'btcusdt'\n",
      "   ORDER BY trade_minute DESC) ,\n",
      "     target_btcusdt_features AS\n",
      "  (SELECT c.close_datetime AS btcusdt_trade_close_datetime ,\n",
      "          extract(isodow\n",
      "                  FROM c.close_datetime) AS trade_day_of_week ,\n",
      "          date_part('hour', c.close_datetime) AS trade_hour ,\n",
      "          c.close_datetime::date - CURRENT_DATE AS days_old ,\n",
      "          c.trade_minute AS btcusdt_trade_minute ,\n",
      "          quote_asset_volume AS btcusdt_quote_asset_volume ,\n",
      "          taker_sell_volume_percentage * 100 AS btcusdt_taker_sell_volume_perc_of_total ,\n",
      "          trade_count AS btcusdt_trade_count ,\n",
      "          o_end.bids_cum_50000_weighted_avg - o_beg.bids_cum_50000_weighted_avg AS btcusdt_crnt_interval_bids_50000_price_diff ,\n",
      "          o_end.bids_cum_50000_weighted_avg - o_end.asks_cum_50000_weighted_avg AS btcusdt_crnt_interval_bids_v_asks_50000_price_diff ,\n",
      "          o_end.bids_cum_50000_weighted_std - o_beg.bids_cum_50000_weighted_std AS btcusdt_crnt_interval_bids_50000_std_diff ,\n",
      "          o_end.bids_cum_50000_weighted_std - o_end.asks_cum_50000_weighted_std AS btcusdt_crnt_interval_bids_v_asks_50000_std_diff ,\n",
      "          o_end.bids_cum_50000_weighted_std / (o_end.bids_cum_50000_weighted_std + o_end.asks_cum_50000_weighted_std) AS btcusdt_crnt_bids_50000_std_perc_of_total ,\n",
      "          o_end.bids_cum_200000_weighted_std / (o_end.bids_cum_200000_weighted_std + o_end.asks_cum_200000_weighted_std) AS btcusdt_crnt_bids_200000_std_perc_of_total ,\n",
      "          (o_end.bids_cum_200000_weighted_std / (o_end.bids_cum_200000_weighted_std + o_end.asks_cum_200000_weighted_std) + LEAD(o_end.bids_cum_200000_weighted_std, 1) OVER (\n",
      "                                                                                                                                                                              ORDER BY c.trade_minute DESC) / (LEAD(o_end.bids_cum_200000_weighted_std, 1) OVER (\n",
      "                                                                                                                                                                                                                                                                 ORDER BY c.trade_minute DESC) + LEAD(o_end.asks_cum_200000_weighted_std, 1) OVER (\n",
      "                                                                                                                                                                                                                                                                                                                                                   ORDER BY c.trade_minute DESC)) + LEAD(o_end.bids_cum_200000_weighted_std, 2) OVER (\n",
      "                                                                                                                                                                                                                                                                                                                                                                                                                                      ORDER BY c.trade_minute DESC) / (LEAD(o_end.bids_cum_200000_weighted_std, 2) OVER (\n",
      "                                                                                                                                                                                                                                                                                                                                                                                                                                                                                                                         ORDER BY c.trade_minute DESC) + LEAD(o_end.asks_cum_200000_weighted_std, 2) OVER (\n",
      "                                                                                                                                                                                                                                                                                                                                                                                                                                                                                                                                                                                                           ORDER BY c.trade_minute DESC)) + LEAD(o_end.bids_cum_200000_weighted_std, 3) OVER (\n",
      "                                                                                                                                                                                                                                                                                                                                                                                                                                                                                                                                                                                                                                                                                              ORDER BY c.trade_minute DESC) / (LEAD(o_end.bids_cum_200000_weighted_std, 3) OVER (\n",
      "                                                                                                                                                                                                                                                                                                                                                                                                                                                                                                                                                                                                                                                                                                                                                                                 ORDER BY c.trade_minute DESC) + LEAD(o_end.asks_cum_200000_weighted_std, 3) OVER (\n",
      "                                                                                                                                                                                                                                                                                                                                                                                                                                                                                                                                                                                                                                                                                                                                                                                                                                                                   ORDER BY c.trade_minute DESC)) + LEAD(o_end.bids_cum_200000_weighted_std, 4) OVER (\n",
      "                                                                                                                                                                                                                                                                                                                                                                                                                                                                                                                                                                                                                                                                                                                                                                                                                                                                                                                                                      ORDER BY c.trade_minute DESC) / (LEAD(o_end.bids_cum_200000_weighted_std, 4) OVER (\n",
      "                                                                                                                                                                                                                                                                                                                                                                                                                                                                                                                                                                                                                                                                                                                                                                                                                                                                                                                                                                                                                                         ORDER BY c.trade_minute DESC) + LEAD(o_end.asks_cum_200000_weighted_std, 4) OVER (\n",
      "                                                                                                                                                                                                                                                                                                                                                                                                                                                                                                                                                                                                                                                                                                                                                                                                                                                                                                                                                                                                                                                                                                                           ORDER BY c.trade_minute DESC))) / 5 AS btcusdt_bids_200000_std_perc_of_total_avg ,\n",
      "          ((quote_asset_volume - LEAD(quote_asset_volume, 5) OVER (\n",
      "                                                                   ORDER BY c.trade_minute DESC)) / LEAD(quote_asset_volume, 5) OVER (\n",
      "                                                                                                                                      ORDER BY c.trade_minute DESC)) * 100 AS prev_5_btcusdt_quote_asset_volume_perc_chg ,\n",
      "          ((taker_sell_volume_percentage - LEAD(taker_sell_volume_percentage, 5) OVER (\n",
      "                                                                                       ORDER BY c.trade_minute DESC)) / LEAD(taker_sell_volume_percentage, 5) OVER (\n",
      "                                                                                                                                                                    ORDER BY c.trade_minute DESC)) * 100 AS prev_5_btcusdt_taker_sell_volume_perc_of_total_chg ,\n",
      "          ((trade_count::float - LEAD(trade_count::float, 5) OVER (\n",
      "                                                                   ORDER BY c.trade_minute DESC)) / LEAD(trade_count::float, 5) OVER (\n",
      "                                                                                                                                      ORDER BY c.trade_minute DESC)) * 100 AS prev_5_btcusdt_trade_count_perc_chg ,\n",
      "          ((o_end.bids_cum_50000_weighted_avg - LEAD(o_end.bids_cum_50000_weighted_avg, 5) OVER (\n",
      "                                                                                                 ORDER BY c.trade_minute DESC)) / LEAD(o_end.bids_cum_50000_weighted_avg, 5) OVER (\n",
      "                                                                                                                                                                                   ORDER BY c.trade_minute DESC)) * 100 AS prev_5_btcusdt_bids_50000_perc_chg ,\n",
      "          ((o_end.bids_cum_50000_weighted_std - LEAD(o_end.bids_cum_50000_weighted_std, 5) OVER (\n",
      "                                                                                                 ORDER BY c.trade_minute DESC)) / LEAD(o_end.bids_cum_50000_weighted_std, 5) OVER (\n",
      "                                                                                                                                                                                   ORDER BY c.trade_minute DESC)) * 100 AS prev_5_btcusdt_bids_50000_std_chg ,\n",
      "          ((LAG(btcusdt_bids_cum_5000_weighted_avg, 6) OVER (\n",
      "                                                             ORDER BY btcusdt_trade_minute DESC) - btcusdt_asks_cum_5000_weighted_avg) / btcusdt_asks_cum_5000_weighted_avg * 100) AS futr_6_askbid_cum_5000_weighted_avg_perc_chg\n",
      "   FROM target_btcusdt_candlesticks c\n",
      "   INNER JOIN target_btcusdt_beg_orderbook o_beg ON o_beg.coin_pair = c.coin_pair\n",
      "   AND o_beg.trade_minute = c.trade_minute\n",
      "   INNER JOIN target_btcusdt_end_orderbook o_end ON o_end.coin_pair = c.coin_pair\n",
      "   AND o_end.lag_trade_minute = c.trade_minute)\n",
      "SELECT btcusdt_trade_close_datetime ,\n",
      "       trade_day_of_week ,\n",
      "       trade_hour ,\n",
      "       days_old ,\n",
      "       btcusdt_trade_minute ,\n",
      "       btcusdt_quote_asset_volume ,\n",
      "       btcusdt_taker_sell_volume_perc_of_total ,\n",
      "       btcusdt_trade_count ,\n",
      "       btcusdt_crnt_interval_bids_50000_price_diff ,\n",
      "       btcusdt_crnt_interval_bids_v_asks_50000_price_diff ,\n",
      "       btcusdt_crnt_interval_bids_50000_std_diff ,\n",
      "       btcusdt_crnt_interval_bids_v_asks_50000_std_diff ,\n",
      "       btcusdt_crnt_bids_50000_std_perc_of_total ,\n",
      "       btcusdt_crnt_bids_200000_std_perc_of_total ,\n",
      "       btcusdt_bids_200000_std_perc_of_total_avg ,\n",
      "       prev_5_btcusdt_quote_asset_volume_perc_chg ,\n",
      "       prev_5_btcusdt_taker_sell_volume_perc_of_total_chg ,\n",
      "       prev_5_btcusdt_trade_count_perc_chg ,\n",
      "       prev_5_btcusdt_bids_50000_perc_chg ,\n",
      "       prev_5_btcusdt_bids_50000_std_chg ,\n",
      "       futr_6_askbid_cum_5000_weighted_avg_perc_chg ,\n",
      "FROM target_btcusdt_features\n",
      "ORDER BY btcusdt_trade_minute ASC\n"
     ]
    }
   ],
   "source": [
    "mm_training = market_maker_training.BinanceTraining(coin_pair_dict, feature_minutes_list, trade_window_list)\n",
    "bsql = mm_training.training_data_sql\n",
    "bsql = bsql.replace('\\n','')\n",
    "print(sqlparse.format(bsql, reindent=True, keyword_case='upper'))"
   ]
  },
  {
   "cell_type": "code",
   "execution_count": null,
   "metadata": {},
   "outputs": [],
   "source": []
  }
 ],
 "metadata": {
  "kernelspec": {
   "display_name": "Python 3",
   "language": "python",
   "name": "python3"
  },
  "language_info": {
   "codemirror_mode": {
    "name": "ipython",
    "version": 3
   },
   "file_extension": ".py",
   "mimetype": "text/x-python",
   "name": "python",
   "nbconvert_exporter": "python",
   "pygments_lexer": "ipython3",
   "version": "3.7.3"
  }
 },
 "nbformat": 4,
 "nbformat_minor": 4
}
