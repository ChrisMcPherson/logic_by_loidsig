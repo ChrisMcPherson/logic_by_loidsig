{
 "cells": [
  {
   "cell_type": "code",
   "execution_count": 1,
   "metadata": {},
   "outputs": [],
   "source": [
    "import boto3\n",
    "import pandas as pd\n",
    "import numpy as np\n",
    "import io\n",
    "# local libraries\n",
    "import hodl_functions\n",
    "\n",
    "pd.options.display.max_rows = 50\n",
    "pd.options.mode.chained_assignment = None\n",
    "%matplotlib inline"
   ]
  },
  {
   "cell_type": "code",
   "execution_count": 2,
   "metadata": {},
   "outputs": [],
   "source": [
    "%load_ext autoreload\n",
    "%autoreload 2"
   ]
  },
  {
   "cell_type": "markdown",
   "metadata": {},
   "source": [
    "# Data Validation"
   ]
  },
  {
   "cell_type": "code",
   "execution_count": 3,
   "metadata": {},
   "outputs": [],
   "source": [
    "dedup_query = \"\"\"\n",
    "                SELECT rt.coin_partition\n",
    "                      , rt.trade_id\n",
    "                      , rt.price\n",
    "                      , rt.qty\n",
    "                      , rt.is_buyer_maker\n",
    "                      , rt.is_best_match\n",
    "                      , rt.trade_time\n",
    "                      , max(rt.file_name) as file_name\n",
    "                 FROM hodl.recent_trades as rt\n",
    "                 LEFT JOIN hodl.recent_trades_dedup as rtdd\n",
    "                     ON rt.coin_partition = rtdd.coin_partition\n",
    "                     AND rt.trade_id = rtdd.trade_id\n",
    "                     AND rt.trade_time = rtdd.trade_time\n",
    "                 GROUP BY rt.coin_partition\n",
    "                        , rt.trade_id\n",
    "                        , rt.price\n",
    "                        , rt.qty\n",
    "                        , rt.is_buyer_maker\n",
    "                        , rt.is_best_match\n",
    "                        , rt.trade_time\n",
    "                        , rtdd.trade_id\n",
    "                 HAVING rt.coin_partition = 'bnbbtc'\n",
    "                     AND rtdd.trade_id IS NULL\n",
    "              \"\"\"\n",
    "\n",
    "missing_trades = \"\"\"\n",
    "                   SELECT coin_partition\n",
    "                        , min(trade_id) as min_trade_id\n",
    "                        , max(trade_id) as max_trade_id\n",
    "                        , count(distinct trade_id) as unique_trades\n",
    "                        , cast(max(trade_id) as integer) - cast(min(trade_id) as integer) as unique_trade_ids\n",
    "                   FROM hodl.raw_trades_recents\n",
    "                   GROUP BY coin_partition\n",
    "                 \"\"\"\n",
    "\n",
    "no_dups = \"\"\"    SELECT coin_partition, count(*)\n",
    "                 FROM (\n",
    "                   SELECT coin_partition, trade_id, trade_time\n",
    "                   FROM hodl.raw_trades_recents\n",
    "                   GROUP BY coin_partition, trade_id, trade_time\n",
    "                   HAVING count(*) = 1\n",
    "                 )\n",
    "                 GROUP BY coin_partition\n",
    "                 \"\"\"\n",
    "\n",
    "dups_query = \"\"\"SELECT coin_partition\n",
    "              , trade_id\n",
    "              , price\n",
    "              , qty\n",
    "              , is_buyer_maker\n",
    "              , is_best_match\n",
    "              , trade_time\n",
    "              , from_unixtime(cast(trade_time as bigint)/1000)\n",
    "              , max(file_name) as file_name\n",
    "         FROM hodl.recent_trades\n",
    "         GROUP BY coin_partition\n",
    "              , trade_id\n",
    "              , price\n",
    "              , qty\n",
    "              , is_buyer_maker\n",
    "              , is_best_match\n",
    "              , trade_time\n",
    "        HAVING coin_partition = 'bnbbtc'\n",
    "        \"\"\"\n",
    "\n",
    "time_between_trades_sql = \"\"\"\n",
    "    select trade_time - prev_time as time_delta\n",
    "    , coin_partition\n",
    "    , ttimestamp\n",
    "    from (\n",
    "      select cast(trade_time as bigint) as trade_time\n",
    "      , cast(Lead(trade_time) OVER (ORDER BY trade_time DESC) as bigint) as prev_time\n",
    "      , coin_partition\n",
    "      , from_unixtime(cast(trade_time as double)/1000) as ttimestamp\n",
    "      , cast(trade_time as bigint)/1000/60/60 as minute\n",
    "      from recent_trades_dedup\n",
    "      where coin_partition = 'ethusdt'\n",
    "    )\n",
    "    order by (trade_time - prev_time) desc\n",
    "    \"\"\""
   ]
  },
  {
   "cell_type": "code",
   "execution_count": 294,
   "metadata": {
    "scrolled": true
   },
   "outputs": [
    {
     "name": "stdout",
     "output_type": "stream",
     "text": [
      "Execution ID: a8b129a7-52b8-4b15-8d48-55b697c40024\n",
      "Query execution failed: {'QueryExecution': {'QueryExecutionId': 'a8b129a7-52b8-4b15-8d48-55b697c40024', 'Query': \"select trade_time - prev_time as time_delta\\n    , coin_partition\\n    , ttimestamp\\n    from (\\n      select cast(trade_time as bigint) as trade_time\\n      , cast(Lead(trade_time) OVER (ORDER BY trade_time DESC) as bigint) as prev_time\\n      , coin_partition\\n      , from_unixtime(cast(trade_time as double)/1000) as ttimestamp\\n      , cast(trade_time as bigint)/1000/60/60 as minute\\n      from recent_trades_dedup\\n      where coin_partition = 'ethusdt'\\n    )\\n    order by (trade_time - prev_time) desc\", 'ResultConfiguration': {'OutputLocation': 's3://loidsig-crypto/athena_results/a8b129a7-52b8-4b15-8d48-55b697c40024.csv'}, 'QueryExecutionContext': {'Database': 'hodl'}, 'Status': {'State': 'FAILED', 'StateChangeReason': 'com.facebook.presto.hive.DataCatalogException: Database hodl not found. Please check your query.', 'SubmissionDateTime': datetime.datetime(2018, 4, 21, 18, 52, 18, 132000, tzinfo=tzlocal()), 'CompletionDateTime': datetime.datetime(2018, 4, 21, 18, 52, 19, 340000, tzinfo=tzlocal())}, 'Statistics': {'EngineExecutionTimeInMillis': 771, 'DataScannedInBytes': 0}}, 'ResponseMetadata': {'RequestId': 'a5458051-45b6-11e8-8627-33f9b42f266b', 'HTTPStatusCode': 200, 'HTTPHeaders': {'content-type': 'application/x-amz-json-1.1', 'date': 'Sat, 21 Apr 2018 22:52:18 GMT', 'x-amzn-requestid': 'a5458051-45b6-11e8-8627-33f9b42f266b', 'content-length': '2270', 'connection': 'keep-alive'}, 'RetryAttempts': 0}}\n",
      "Dataframe is empty. Query likely failed.\n"
     ]
    },
    {
     "data": {
      "text/html": [
       "<div>\n",
       "<style scoped>\n",
       "    .dataframe tbody tr th:only-of-type {\n",
       "        vertical-align: middle;\n",
       "    }\n",
       "\n",
       "    .dataframe tbody tr th {\n",
       "        vertical-align: top;\n",
       "    }\n",
       "\n",
       "    .dataframe thead th {\n",
       "        text-align: right;\n",
       "    }\n",
       "</style>\n",
       "<table border=\"1\" class=\"dataframe\">\n",
       "  <thead>\n",
       "    <tr style=\"text-align: right;\">\n",
       "      <th></th>\n",
       "    </tr>\n",
       "  </thead>\n",
       "  <tbody>\n",
       "  </tbody>\n",
       "</table>\n",
       "</div>"
      ],
      "text/plain": [
       "Empty DataFrame\n",
       "Columns: []\n",
       "Index: []"
      ]
     },
     "execution_count": 294,
     "metadata": {},
     "output_type": "execute_result"
    }
   ],
   "source": [
    "time_between_df = hodl_functions.pandas_read_athena(time_between_trades_sql)\n",
    "time_between_df"
   ]
  },
  {
   "cell_type": "code",
   "execution_count": 5,
   "metadata": {},
   "outputs": [
    {
     "data": {
      "text/plain": [
       "count                        2417312\n",
       "unique                       1619845\n",
       "top       2018-04-02 23:27:54.747000\n",
       "freq                             352\n",
       "first     2018-03-25 13:16:32.094000\n",
       "last      2018-04-14 00:25:00.431000\n",
       "Name: ttimestamp, dtype: object"
      ]
     },
     "execution_count": 5,
     "metadata": {},
     "output_type": "execute_result"
    }
   ],
   "source": [
    "pd.to_datetime(time_between_df['ttimestamp']).describe()"
   ]
  },
  {
   "cell_type": "code",
   "execution_count": 6,
   "metadata": {},
   "outputs": [
    {
     "data": {
      "text/plain": [
       "count    2.417311e+06\n",
       "mean     6.956938e-01\n",
       "std      1.904647e+00\n",
       "min      0.000000e+00\n",
       "25%      0.000000e+00\n",
       "50%      7.200000e-02\n",
       "75%      5.690000e-01\n",
       "max      1.078450e+02\n",
       "Name: time_delta, dtype: float64"
      ]
     },
     "execution_count": 6,
     "metadata": {},
     "output_type": "execute_result"
    }
   ],
   "source": [
    "(time_between_df['time_delta']/1000).describe()"
   ]
  },
  {
   "cell_type": "code",
   "execution_count": 7,
   "metadata": {},
   "outputs": [
    {
     "data": {
      "text/plain": [
       "<matplotlib.axes._subplots.AxesSubplot at 0x109d57d68>"
      ]
     },
     "execution_count": 7,
     "metadata": {},
     "output_type": "execute_result"
    },
    {
     "data": {
      "image/png": "[encoded data removed]",
      "text/plain": [
       "<Figure size 432x288 with 1 Axes>"
      ]
     },
     "metadata": {},
     "output_type": "display_data"
    }
   ],
   "source": [
    "(time_between_df['time_delta']/1000).hist()"
   ]
  },
  {
   "cell_type": "code",
   "execution_count": 228,
   "metadata": {},
   "outputs": [
    {
     "name": "stdout",
     "output_type": "stream",
     "text": [
      "Execution ID: ba9f95b5-7cc8-4055-8e33-4225db2a9f25\n"
     ]
    }
   ],
   "source": [
    "processed_dates_df = hodl_functions.pandas_read_athena(f\"\"\"SELECT DISTINCT CAST(micro_timestamp as bigint)/1000/60/60/24 as day_id\n",
    "                                                                  FROM binance.historic_trades\n",
    "                                                                  WHERE coin_partition = 'ethusdt'\n",
    "                                                                  ORDER BY CAST(micro_timestamp as bigint)/1000/60/60/24\"\"\")"
   ]
  },
  {
   "cell_type": "code",
   "execution_count": null,
   "metadata": {},
   "outputs": [],
   "source": []
  }
 ],
 "metadata": {
  "kernelspec": {
   "display_name": "Python 3",
   "language": "python",
   "name": "python3"
  },
  "language_info": {
   "codemirror_mode": {
    "name": "ipython",
    "version": 3
   },
   "file_extension": ".py",
   "mimetype": "text/x-python",
   "name": "python",
   "nbconvert_exporter": "python",
   "pygments_lexer": "ipython3",
   "version": "3.6.5"
  }
 },
 "nbformat": 4,
 "nbformat_minor": 2
}
